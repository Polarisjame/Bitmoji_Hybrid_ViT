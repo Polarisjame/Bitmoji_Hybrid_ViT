{
 "cells": [
  {
   "cell_type": "code",
   "execution_count": 1,
   "id": "c150547c",
   "metadata": {
    "ExecuteTime": {
     "end_time": "2022-12-19T15:24:24.874350Z",
     "start_time": "2022-12-19T15:24:24.866350Z"
    }
   },
   "outputs": [],
   "source": [
    "fileroot = r'./Bitmojidata/trainimages/'"
   ]
  },
  {
   "cell_type": "code",
   "execution_count": 4,
   "id": "09167987",
   "metadata": {
    "ExecuteTime": {
     "end_time": "2022-12-19T15:26:20.596346Z",
     "start_time": "2022-12-19T15:26:20.567342Z"
    }
   },
   "outputs": [],
   "source": [
    "import PIL.Image\n",
    "import os"
   ]
  },
  {
   "cell_type": "code",
   "execution_count": 5,
   "id": "e61ace09",
   "metadata": {
    "ExecuteTime": {
     "end_time": "2022-12-19T15:26:21.074582Z",
     "start_time": "2022-12-19T15:26:21.065582Z"
    }
   },
   "outputs": [
    {
     "ename": "NameError",
     "evalue": "name 'Image' is not defined",
     "output_type": "error",
     "traceback": [
      "\u001b[1;31m---------------------------------------------------------------------------\u001b[0m",
      "\u001b[1;31mNameError\u001b[0m                                 Traceback (most recent call last)",
      "\u001b[1;32m~\\AppData\\Local\\Temp\\ipykernel_30588\\1828824667.py\u001b[0m in \u001b[0;36m<module>\u001b[1;34m\u001b[0m\n\u001b[1;32m----> 1\u001b[1;33m \u001b[0msquare\u001b[0m \u001b[1;33m=\u001b[0m \u001b[0mImage\u001b[0m\u001b[1;33m.\u001b[0m\u001b[0mopen\u001b[0m\u001b[1;33m(\u001b[0m\u001b[0mfileroot\u001b[0m\u001b[1;33m)\u001b[0m\u001b[1;33m\u001b[0m\u001b[1;33m\u001b[0m\u001b[0m\n\u001b[0m",
      "\u001b[1;31mNameError\u001b[0m: name 'Image' is not defined"
     ]
    }
   ],
   "source": [
    "square = Image.open(fileroot)"
   ]
  },
  {
   "cell_type": "code",
   "execution_count": null,
   "id": "2a8b2b85",
   "metadata": {},
   "outputs": [],
   "source": []
  }
 ],
 "metadata": {
  "kernelspec": {
   "display_name": "pycharm",
   "language": "python",
   "name": "pycharm"
  },
  "language_info": {
   "codemirror_mode": {
    "name": "ipython",
    "version": 3
   },
   "file_extension": ".py",
   "mimetype": "text/x-python",
   "name": "python",
   "nbconvert_exporter": "python",
   "pygments_lexer": "ipython3",
   "version": "3.7.12"
  }
 },
 "nbformat": 4,
 "nbformat_minor": 5
}
